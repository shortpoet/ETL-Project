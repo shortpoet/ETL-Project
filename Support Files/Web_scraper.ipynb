{
 "cells": [
  {
   "cell_type": "code",
   "execution_count": 11,
   "metadata": {},
   "outputs": [
    {
     "data": {
      "text/plain": [
       "{'prices': {'current': {'Amazon Price History': {'price': 167.37,\n",
       "    'date': 'Dec 11, 2018'},\n",
       "   '3rd Party New Price History': {'price': 155.23, 'date': 'Dec 11, 2018'},\n",
       "   '3rd Party Used Price History': {'price': None, 'date': None}},\n",
       "  'lowest': {'Amazon Price History': {'price': 141.24, 'date': 'Oct 06, 2013'},\n",
       "   '3rd Party New Price History': {'price': 94.9, 'date': 'Jul 04, 2017'},\n",
       "   '3rd Party Used Price History': {'price': 94.62, 'date': 'Jul 10, 2014'}},\n",
       "  'highest': {'Amazon Price History': {'price': 189.97,\n",
       "    'date': 'Feb 05, 2016'},\n",
       "   '3rd Party New Price History': {'price': 174.08, 'date': 'Feb 05, 2016'},\n",
       "   '3rd Party Used Price History': {'price': 635.52, 'date': 'Sep 09, 2017'}},\n",
       "  'average': {'Amazon Price History': {'price': 163.96, 'date': '-'},\n",
       "   '3rd Party New Price History': {'price': 160.12, 'date': '-'},\n",
       "   '3rd Party Used Price History': {'price': 452.97, 'date': '-'}}},\n",
       " 'url': 'http://camelcamelcamel.com/product/B005ADY8V4',\n",
       " 'chart_url': 'http://charts.camelcamelcamel.com/us/B005ADY8V4/amazon.png?force=1&zero=0&w=1024&h=640&desired=false&legend=1&ilt=1&tp=all&fo=0&lang=en'}"
      ]
     },
     "execution_count": 11,
     "metadata": {},
     "output_type": "execute_result"
    }
   ],
   "source": [
    "from bs4 import BeautifulSoup\n",
    "import urllib.request \n",
    "import http.cookiejar\n",
    "ccj = http.cookiejar.CookieJar()\n",
    "\n",
    "def get_camel_info(asin, headers=None):\n",
    "    url = 'http://camelcamelcamel.com/product/%s' % asin\n",
    "    chart_url = 'http://charts.camelcamelcamel.com/us/%s/amazon.png?force=1&zero=0&w=1024&h=640&desired=false&legend=1&ilt=1&tp=all&fo=0&lang=en' % asin\n",
    "    opener = urllib.request.build_opener(urllib.request.HTTPCookieProcessor(ccj))\n",
    "    \n",
    "    if headers != None: opener.addheaders = headers\n",
    "    try:\n",
    "        content = opener.open(url).read()\n",
    "    except Exception as e:\n",
    "        return None\n",
    "    \n",
    "    soup = BeautifulSoup(content, \"lxml\")\n",
    "    seller_types = [\n",
    "        {\n",
    "            'header': 'Amazon Price History'\n",
    "        },\n",
    "        {\n",
    "            'header': '3rd Party New Price History'\n",
    "        },\n",
    "        {\n",
    "            'header': '3rd Party Used Price History'\n",
    "        }           \n",
    "    ]        \n",
    "    data = {\n",
    "        'prices': {\n",
    "             'current': {\n",
    "            },\n",
    "            'lowest': {\n",
    "            },\n",
    "            'highest': {\n",
    "            \n",
    "            },\n",
    "            'average': {\n",
    "            }\n",
    "        },\n",
    "        'url': url,\n",
    "        'chart_url': chart_url\n",
    "       \n",
    "    }\n",
    "    for seller_type in seller_types:\n",
    "        header = soup.find('h3', string = seller_type['header'])\n",
    "        if header == None:\n",
    "            continue\n",
    "        type_div = header.parent\n",
    "        for price_type in data['prices']:\n",
    "            price_div = type_div.find((lambda tag: tag.name == \"td\" and price_type.capitalize() in tag.text))\n",
    "            # print price_div\n",
    "            try:\n",
    "                price = price_div.find_next_sibling('td').text.replace('$', '')\n",
    "                price = float(price)\n",
    "                date = price_div.find_next_sibling('td').find_next_sibling('td').text\n",
    "    \n",
    "            except Exception as e:\n",
    "                price = None\n",
    "                date = None\n",
    "           \n",
    "            data['prices'][price_type][seller_type['header']] = {\n",
    "                'price': price,\n",
    "                'date': date\n",
    "            }\n",
    "    #sleep(3)\n",
    "    return data\n",
    "\n",
    "get_camel_info('B005ADY8V4')"
   ]
  },
  {
   "cell_type": "code",
   "execution_count": null,
   "metadata": {},
   "outputs": [],
   "source": []
  }
 ],
 "metadata": {
  "kernelspec": {
   "display_name": "Python 3",
   "language": "python",
   "name": "python3"
  },
  "language_info": {
   "codemirror_mode": {
    "name": "ipython",
    "version": 3
   },
   "file_extension": ".py",
   "mimetype": "text/x-python",
   "name": "python",
   "nbconvert_exporter": "python",
   "pygments_lexer": "ipython3",
   "version": "3.6.5"
  }
 },
 "nbformat": 4,
 "nbformat_minor": 2
}
